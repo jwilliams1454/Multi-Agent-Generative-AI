{
 "cells": [
  {
   "cell_type": "markdown",
   "metadata": {},
   "source": [
    "# Load Envrionment Variables and API Key"
   ]
  },
  {
   "cell_type": "code",
   "execution_count": 1,
   "metadata": {},
   "outputs": [
    {
     "name": "stdout",
     "output_type": "stream",
     "text": [
      "API Key loaded successfully\n"
     ]
    }
   ],
   "source": [
    "# Warning control\n",
    "import warnings\n",
    "warnings.filterwarnings('ignore')\n",
    "\n",
    "import openai\n",
    "import os\n",
    "from dotenv import load_dotenv\n",
    "\n",
    "# Load environment variables from the .env file\n",
    "load_dotenv()\n",
    "\n",
    "# Verify that the API key is loaded correctly\n",
    "api_key = os.getenv('OPENAI_API_KEY')\n",
    "if not api_key:\n",
    "    raise ValueError(\"API key not found. Please check your .env file or environment variable settings.\")\n",
    "\n",
    "# Set the OpenAI API key\n",
    "openai.api_key = api_key\n",
    "\n",
    "# Print the API key to verify it's loaded (remove this in production for security reasons)\n",
    "# print(f\"Using API Key: {api_key}\")\n",
    "print(f\"API Key loaded successfully\")"
   ]
  },
  {
   "cell_type": "markdown",
   "metadata": {},
   "source": [
    "# Define Agents"
   ]
  },
  {
   "cell_type": "code",
   "execution_count": 2,
   "metadata": {},
   "outputs": [
    {
     "name": "stdout",
     "output_type": "stream",
     "text": [
      "Agents defined successfully\n"
     ]
    },
    {
     "name": "stderr",
     "output_type": "stream",
     "text": [
      "C:\\Users\\jwill\\anaconda3\\lib\\site-packages\\langchain_core\\_api\\deprecation.py:119: LangChainDeprecationWarning: The class `ChatOpenAI` was deprecated in LangChain 0.0.10 and will be removed in 0.3.0. An updated version of the class exists in the langchain-openai package and should be used instead. To use it run `pip install -U langchain-openai` and import as `from langchain_openai import ChatOpenAI`.\n",
      "  warn_deprecated(\n"
     ]
    }
   ],
   "source": [
    "from crewai import Agent\n",
    "\n",
    "# Define agents with specific roles and tools\n",
    "researcher = Agent(\n",
    "    role='Senior Research Analyst',\n",
    "    goal='Discover new qualitative research methods',\n",
    "    backstory=\"You're working on researching for\"\n",
    "              \"a LinkedIn post about the topic: {topic}.\"\n",
    "              \"It will be written by the Content Writer. \"\n",
    "              \"provide the Content Writer with relevant insights.\"\n",
    ",\n",
    "    allow_delegation=False,\n",
    "    verbose=True    \n",
    ")\n",
    "\n",
    "writer = Agent(\n",
    "    role='Content Writer',\n",
    "    goal='Write engaging LinkedIn post on  new qualitative research methods',\n",
    "    backstory=\"You're working on a writing \"\n",
    "              \"a LinkedIn post about the topic: {topic}.\"\n",
    "              \"A LinkedIn post should be short and concise. \"\n",
    "              \"It should be 3 to 5 sentences long.\"\n",
    "              \"You base your writing on the work of \"\n",
    "              \"the Senior Research Analyst, who provides \"\n",
    "              \"and relevant context about the topic. \"\n",
    "              \"You also provide objective and impartial insights \"\n",
    "              \"and back them up with information \"\n",
    "              \"provide by the researcher. \"\n",
    "              \"You acknowledge in your opinion piece \"\n",
    "              \"when your statements are opinions \"\n",
    "              \"as opposed to objective statements.\",\n",
    "    verbose=True\n",
    ")\n",
    "\n",
    "print(f\"Agents defined successfully\")"
   ]
  },
  {
   "cell_type": "markdown",
   "metadata": {},
   "source": [
    "# Define Tasks"
   ]
  },
  {
   "cell_type": "code",
   "execution_count": 3,
   "metadata": {},
   "outputs": [
    {
     "name": "stdout",
     "output_type": "stream",
     "text": [
      "Tasks defined successfully\n"
     ]
    }
   ],
   "source": [
    "from crewai import Task\n",
    "\n",
    "# Create tasks for the agents\n",
    "research_task = Task(\n",
    "    description='Identify new qualitative research methods',\n",
    "    agent=researcher\n",
    ")\n",
    "write_article_task = Task(\n",
    "    description='Draft an LinkedIn post on  new qualitative research methods',\n",
    "    agent=writer\n",
    ")\n",
    "\n",
    "\n",
    "print(f\"Tasks defined successfully\")"
   ]
  },
  {
   "cell_type": "markdown",
   "metadata": {},
   "source": [
    "# Assemble Crew and Define Process"
   ]
  },
  {
   "cell_type": "code",
   "execution_count": 17,
   "metadata": {},
   "outputs": [
    {
     "name": "stdout",
     "output_type": "stream",
     "text": [
      "Crew assembled and process defined successfully\n"
     ]
    }
   ],
   "source": [
    "from crewai import Crew, Process\n",
    "\n",
    "# Assemble the crew with a sequential process\n",
    "my_crew = Crew(\n",
    "    agents=[researcher, writer],\n",
    "    tasks=[research_task, write_article_task],\n",
    "    process=Process.sequential,\n",
    "    full_output=True,\n",
    "    verbose=True,\n",
    ")\n",
    "\n",
    "print(f\"Crew assembled and process defined successfully\")"
   ]
  },
  {
   "cell_type": "markdown",
   "metadata": {},
   "source": [
    "# Kickoff"
   ]
  },
  {
   "cell_type": "code",
   "execution_count": 20,
   "metadata": {},
   "outputs": [
    {
     "name": "stdout",
     "output_type": "stream",
     "text": [
      "\n",
      "\n",
      "\u001b[1m> Entering new AgentExecutor chain...\u001b[0m\n",
      "\u001b[32;1m\u001b[1;3mThought: Do I need to use a tool? No\n",
      "\n",
      "Final Answer: Here are some innovative qualitative research methods for the Content Writer to consider:\n",
      "\n",
      "1. **Emotional Mapping**: This is a method where respondents are asked to record their emotional reactions to stimuli over a certain period. It provides rich data on the emotional experiences of the participants.\n",
      "\n",
      "2. **Collage Making**: In this method, respondents are asked to create collages to represent their feelings or experiences. This can be a powerful tool to tap into subconscious thoughts and feelings.\n",
      "\n",
      "3. **Experience Sampling Method (ESM)**: This involves participants reporting on their experiences, feelings, and thoughts at random points throughout the day, providing real-time data.\n",
      "\n",
      "4. **Video Diaries**: Participants are asked to record their activities or thoughts on video, providing a rich, visual, and personal account of their experiences.\n",
      "\n",
      "5. **Online Communities**: Researchers can join online communities to conduct ethnographic research, gaining insights into the group dynamics, norms, and values of the community.\n",
      "\n",
      "6. **Virtual Reality (VR) Research**: This is a relatively new method that involves using VR to simulate environments or experiences. It can be used to test reactions to situations or to recreate experiences for study.\n",
      "\n",
      "7. **Autoethnography**: This is a form of self-reflection that researchers use to explore their personal experience and connect this autobiographical story to wider cultural, political, and social meanings and understandings. \n",
      "\n",
      "Each method has its own strengths and weaknesses, and the best method will depend on the research question and context.\u001b[0m\n",
      "\n",
      "\u001b[1m> Finished chain.\u001b[0m\n",
      "\n",
      "\n",
      "\u001b[1m> Entering new AgentExecutor chain...\u001b[0m\n",
      "\u001b[32;1m\u001b[1;3mThought: Do I need to use a tool? No\n",
      "Final Answer: Bridging the gap between technology and research, new qualitative methods are transforming the way we understand human behavior. From Emotional Mapping that captures real-time responses, to the immersive insights of VR Research, we are now able to delve deeper into the human psyche. Let's embrace these innovative tools, they are not just methods, they are the future of research. #Research #Innovation #QualitativeMethods\u001b[0m\n",
      "\n",
      "\u001b[1m> Finished chain.\u001b[0m\n"
     ]
    },
    {
     "data": {
      "text/plain": [
       "\"Bridging the gap between technology and research, new qualitative methods are transforming the way we understand human behavior. From Emotional Mapping that captures real-time responses, to the immersive insights of VR Research, we are now able to delve deeper into the human psyche. Let's embrace these innovative tools, they are not just methods, they are the future of research. #Research #Innovation #QualitativeMethods\""
      ]
     },
     "execution_count": 20,
     "metadata": {},
     "output_type": "execute_result"
    }
   ],
   "source": [
    "# Crew Kickoff\n",
    "# Access the crew's usage metrics\n",
    "crew = Crew(agents=[researcher, writer], tasks=[research_task, write_article_task])\n",
    "crew.kickoff()\n",
    "\n",
    "# alt version 1\n",
    "# crew.kickoff({\"topic\": topic})\n",
    "\n",
    "# alt version 2\n",
    "# result = crew.kickoff(inputs={'topic': 'AI in healthcare'})\n",
    "# print(result)"
   ]
  },
  {
   "cell_type": "code",
   "execution_count": null,
   "metadata": {},
   "outputs": [],
   "source": []
  }
 ],
 "metadata": {
  "kernelspec": {
   "display_name": "Python 3",
   "language": "python",
   "name": "python3"
  },
  "language_info": {
   "codemirror_mode": {
    "name": "ipython",
    "version": 3
   },
   "file_extension": ".py",
   "mimetype": "text/x-python",
   "name": "python",
   "nbconvert_exporter": "python",
   "pygments_lexer": "ipython3",
   "version": "3.8.5"
  }
 },
 "nbformat": 4,
 "nbformat_minor": 4
}
